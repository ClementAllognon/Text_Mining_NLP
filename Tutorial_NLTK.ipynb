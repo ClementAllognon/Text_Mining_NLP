{
 "cells": [
  {
   "cell_type": "code",
   "execution_count": 2,
   "metadata": {},
   "outputs": [],
   "source": [
    "import nltk\n",
    "from nltk.tokenize import word_tokenize\n",
    "#nltk.download()\n",
    "\n",
    "import pandas as pd\n",
    "import os\n",
    "from nltk.corpus import stopwords\n",
    "\n",
    "from wordcloud import WordCloud\n",
    "import matplotlib.pyplot as plt\n",
    "\n",
    "from sklearn.feature_extraction.text import TfidfTransformer\n",
    "from sklearn.feature_extraction.text import TfidfVectorizer\n",
    "\n",
    "from sklearn.naive_bayes import MultinomialNB\n",
    "from  sklearn.metrics  import accuracy_score"
   ]
  },
  {
   "cell_type": "code",
   "execution_count": 3,
   "metadata": {},
   "outputs": [
    {
     "name": "stdout",
     "output_type": "stream",
     "text": [
      "tokens:\n",
      " ['The', 'quick', 'brown', 'fox', 'jumps', 'over', 'the', 'lazy', 'dog']\n"
     ]
    }
   ],
   "source": [
    "#function to split text into word\n",
    "tokens = word_tokenize('The quick brown fox jumps over the lazy dog')\n",
    "#nltk.download('stopwords')\n",
    "print('tokens:\\n', tokens)"
   ]
  },
  {
   "cell_type": "code",
   "execution_count": 4,
   "metadata": {},
   "outputs": [
    {
     "name": "stdout",
     "output_type": "stream",
     "text": [
      "tokens:\n",
      " ['The', 'quick', 'brown', 'fox', 'jumps', 'lazy', 'dog']\n"
     ]
    }
   ],
   "source": [
    "from nltk.corpus import stopwords\n",
    "stop_words = set(stopwords.words('english'))\n",
    "tokens = [w for w in tokens if not w in stop_words]\n",
    "print('tokens:\\n', tokens)"
   ]
  },
  {
   "cell_type": "code",
   "execution_count": 5,
   "metadata": {},
   "outputs": [
    {
     "name": "stdout",
     "output_type": "stream",
     "text": [
      "['the', 'quick', 'brown', 'fox', 'jump', 'lazi', 'dog']\n"
     ]
    }
   ],
   "source": [
    "#NLTK provides several stemmer interfaces like Porter stemmer, Lancaster Stemmer, Snowball Stemmer\n",
    "from nltk.stem.porter import PorterStemmer\n",
    "porter = PorterStemmer()\n",
    "stems=[]\n",
    "for t in tokens:\n",
    "    stems.append(porter.stem(t))\n",
    "    \n",
    "print(stems)"
   ]
  },
  {
   "cell_type": "markdown",
   "metadata": {},
   "source": [
    "Bag of Words (BOW): We make the list of unique words in the text corpus called vocabulary. \n",
    "Then we can represent each sentence or document as a vector with each word \n",
    "represented as 1 for present and 0 for absent from the vocabulary. \n",
    "Another representation can be count the number of times each word appears in a document. \n",
    "The most popular approach is using the Term Frequency-Inverse Document Frequency (TF-IDF) technique.\n"
   ]
  },
  {
   "cell_type": "markdown",
   "metadata": {
    "raw_mimetype": "text/markdown"
   },
   "source": [
    "Term Frequency (TF) = (Number of times term t appears in a document)/(Number of terms in the document)\n",
    "\n",
    "Inverse Document Frequency (IDF) = log(N/n), where, N is the number of documents and n is the number of documents a term t has appeared in. The IDF of a rare word is high, whereas the IDF of a frequent word is likely to be low. \n",
    "Thus having the effect of highlighting words that are distinct.\n",
    "\n",
    "We calculate TF-IDF value of a term as = TF * IDF"
   ]
  },
  {
   "cell_type": "markdown",
   "metadata": {},
   "source": [
    "TF('beautiful',Document1) = 2/10, IDF('beautiful')=log(2/2) = 0\n",
    "TF(‘day’,Document1) = 5/10,  IDF(‘day’)=log(2/1) = 0.30\n",
    "\n",
    "TF-IDF(‘beautiful’, Document1) = (2/10)*0 = 0\n",
    "TF-IDF(‘day’, Document1) = (5/10)*0.30 = 0.15"
   ]
  },
  {
   "cell_type": "markdown",
   "metadata": {},
   "source": [
    "One of the major disadvantages of using BOW is that it discards word order \n",
    "thereby ignoring the context and in turn meaning of words in the document. \n",
    "For natural language processing (NLP) maintaining the context of the words is of utmost importance. \n",
    "To solve this problem we use another approach called Word Embedding."
   ]
  },
  {
   "cell_type": "markdown",
   "metadata": {},
   "source": [
    "Word Embedding: \n",
    "\n",
    "It is a representation of text where words \n",
    "that have the same meaning have a similar representation. \n",
    "In other words it represents words in a coordinate system where related words,\n",
    "based on a corpus of relationships, are placed closer together."
   ]
  },
  {
   "cell_type": "markdown",
   "metadata": {},
   "source": [
    "Word2Vec\n",
    "Word2vec takes as its input a large corpus of text and produces a vector space \n",
    "with each unique word being assigned a corresponding vector in the space. \n",
    "Word vectors are positioned in the vector space such that words that share \n",
    "common contexts in the corpus are located in close proximity to one another in the space. \n",
    "Word2Vec is very famous at capturing meaning and demonstrating it on tasks \n",
    "like calculating analogy questions of the form a is to b as c is to ?. \n",
    "For example, man is to woman as uncle is to ? (aunt) using a simple vector \n",
    "offset method based on cosine distance. For example, here are vector offsets \n",
    "for three word pairs illustrating the gender relation:"
   ]
  },
  {
   "cell_type": "markdown",
   "metadata": {},
   "source": [
    "Glove\n",
    "The Global Vectors for Word Representation, or GloVe, \n",
    "algorithm is an extension to the word2vec method \n",
    "for efficiently learning word vectors. \n",
    "GloVe constructs an explicit word-context or \n",
    "word co-occurrence matrix using statistics across the whole text corpus. \n",
    "The result is a learning model that may result in generally better word embeddings."
   ]
  },
  {
   "cell_type": "code",
   "execution_count": 6,
   "metadata": {},
   "outputs": [],
   "source": [
    "folder= '/home/Documents/code/Tutorials/datasets/aclImdb/'\n",
    "labels = {'pos': 1, 'neg': 0}\n",
    "df = pd.DataFrame()\n",
    "\n"
   ]
  },
  {
   "cell_type": "code",
   "execution_count": 7,
   "metadata": {},
   "outputs": [],
   "source": [
    "for f in ('test', 'train'):    \n",
    "    for l in ('pos', 'neg'):\n",
    "        path = os.path.join(folder, f, l)\n",
    "        for file in os.listdir (path) :\n",
    "            with open(os.path.join(path, file),'r', encoding='utf-8') as infile:\n",
    "                txt = infile.read()\n",
    "            df = df.append([[txt, labels[l]]],ignore_index=True)\n",
    "            \n",
    "df.columns = ['review', 'sentiment']"
   ]
  },
  {
   "cell_type": "code",
   "execution_count": 8,
   "metadata": {},
   "outputs": [
    {
     "data": {
      "text/plain": [
       "<bound method NDFrame.head of                                                   review  sentiment\n",
       "0      This version of ALICE IN WONDERLAND is truly o...          1\n",
       "1      This movie was fabulous. It is definitely a to...          1\n",
       "2      Camp North Star and it's Camp counselor extrao...          1\n",
       "3      From the crash of the opening theme, \"The Man ...          1\n",
       "4      One of Starewicz's longest and strangest short...          1\n",
       "...                                                  ...        ...\n",
       "49995  This movie causes more unintentional laughter ...          0\n",
       "49996  I go to a lot of movies, often I bring my 5 ye...          0\n",
       "49997  This one is bad. A really bad and boring crime...          0\n",
       "49998  N.B.: Spoilers within. Assigning an artistic d...          0\n",
       "49999  I've read a few books about Bonnie and Clyde, ...          0\n",
       "\n",
       "[50000 rows x 2 columns]>"
      ]
     },
     "execution_count": 8,
     "metadata": {},
     "output_type": "execute_result"
    }
   ],
   "source": [
    "df.head"
   ]
  },
  {
   "cell_type": "code",
   "execution_count": null,
   "metadata": {},
   "outputs": [],
   "source": [
    "df.to_csv('/home/Documents/code/Tutorials/datasets/aclImdb/movie_data.csv', index=False,encoding ='utf-8')"
   ]
  },
  {
   "cell_type": "code",
   "execution_count": 9,
   "metadata": {},
   "outputs": [
    {
     "data": {
      "text/html": [
       "<div>\n",
       "<style scoped>\n",
       "    .dataframe tbody tr th:only-of-type {\n",
       "        vertical-align: middle;\n",
       "    }\n",
       "\n",
       "    .dataframe tbody tr th {\n",
       "        vertical-align: top;\n",
       "    }\n",
       "\n",
       "    .dataframe thead th {\n",
       "        text-align: right;\n",
       "    }\n",
       "</style>\n",
       "<table border=\"1\" class=\"dataframe\">\n",
       "  <thead>\n",
       "    <tr style=\"text-align: right;\">\n",
       "      <th></th>\n",
       "      <th>review</th>\n",
       "      <th>sentiment</th>\n",
       "    </tr>\n",
       "  </thead>\n",
       "  <tbody>\n",
       "    <tr>\n",
       "      <th>0</th>\n",
       "      <td>This version of ALICE IN WONDERLAND is truly o...</td>\n",
       "      <td>1</td>\n",
       "    </tr>\n",
       "    <tr>\n",
       "      <th>1</th>\n",
       "      <td>This movie was fabulous. It is definitely a to...</td>\n",
       "      <td>1</td>\n",
       "    </tr>\n",
       "    <tr>\n",
       "      <th>2</th>\n",
       "      <td>Camp North Star and it's Camp counselor extrao...</td>\n",
       "      <td>1</td>\n",
       "    </tr>\n",
       "    <tr>\n",
       "      <th>3</th>\n",
       "      <td>From the crash of the opening theme, \"The Man ...</td>\n",
       "      <td>1</td>\n",
       "    </tr>\n",
       "    <tr>\n",
       "      <th>4</th>\n",
       "      <td>One of Starewicz's longest and strangest short...</td>\n",
       "      <td>1</td>\n",
       "    </tr>\n",
       "  </tbody>\n",
       "</table>\n",
       "</div>"
      ],
      "text/plain": [
       "                                              review  sentiment\n",
       "0  This version of ALICE IN WONDERLAND is truly o...          1\n",
       "1  This movie was fabulous. It is definitely a to...          1\n",
       "2  Camp North Star and it's Camp counselor extrao...          1\n",
       "3  From the crash of the opening theme, \"The Man ...          1\n",
       "4  One of Starewicz's longest and strangest short...          1"
      ]
     },
     "execution_count": 9,
     "metadata": {},
     "output_type": "execute_result"
    }
   ],
   "source": [
    "df.head()"
   ]
  },
  {
   "cell_type": "markdown",
   "metadata": {},
   "source": [
    "To get the frequency distribution of the words in the text,\n",
    "we can utilize the nltk.FreqDist() function, \n",
    "which lists the top words used in the text, \n",
    "providing a rough idea of the main topic in the text data, \n",
    "as shown in the following code:"
   ]
  },
  {
   "cell_type": "code",
   "execution_count": 10,
   "metadata": {},
   "outputs": [
    {
     "name": "stdout",
     "output_type": "stream",
     "text": [
      "198757\n"
     ]
    },
    {
     "data": {
      "text/plain": [
       "['the',\n",
       " ',',\n",
       " '.',\n",
       " 'a',\n",
       " 'and',\n",
       " 'of',\n",
       " 'to',\n",
       " 'is',\n",
       " '/',\n",
       " '>',\n",
       " '<',\n",
       " 'br',\n",
       " 'in',\n",
       " 'I',\n",
       " 'it',\n",
       " 'that',\n",
       " \"'s\",\n",
       " 'this',\n",
       " 'was',\n",
       " 'The',\n",
       " 'as',\n",
       " 'with',\n",
       " 'movie',\n",
       " 'for',\n",
       " 'film',\n",
       " ')',\n",
       " '(',\n",
       " 'but',\n",
       " \"''\",\n",
       " \"n't\",\n",
       " '``',\n",
       " 'on',\n",
       " 'you',\n",
       " 'are',\n",
       " 'not',\n",
       " 'have',\n",
       " 'his',\n",
       " 'be',\n",
       " '!',\n",
       " 'he',\n",
       " 'one',\n",
       " 'at',\n",
       " 'by',\n",
       " 'an',\n",
       " 'all',\n",
       " 'who',\n",
       " 'they',\n",
       " 'from',\n",
       " 'like',\n",
       " 'It']"
      ]
     },
     "execution_count": 10,
     "metadata": {},
     "output_type": "execute_result"
    }
   ],
   "source": [
    "reviews = df.review.str.cat(sep=' ')\n",
    "#function to split text into word\n",
    "tokens = word_tokenize(reviews)\n",
    "vocabulary = set(tokens)\n",
    "print(len(vocabulary))\n",
    "frequency_dist = nltk.FreqDist(tokens)\n",
    "sorted(frequency_dist,key=frequency_dist.__getitem__, reverse=True)[0:50]"
   ]
  },
  {
   "cell_type": "code",
   "execution_count": 11,
   "metadata": {},
   "outputs": [],
   "source": [
    "stop_words = set(stopwords.words('english'))\n",
    "tokens = [w for w in tokens if not w in stop_words]"
   ]
  },
  {
   "cell_type": "code",
   "execution_count": 13,
   "metadata": {},
   "outputs": [
    {
     "data": {
      "image/png": "[encoded data removed]",
      "text/plain": [
       "<Figure size 432x288 with 1 Axes>"
      ]
     },
     "metadata": {
      "needs_background": "light"
     },
     "output_type": "display_data"
    }
   ],
   "source": [
    "wordcloud = WordCloud().generate_from_frequencies(frequency_dist)\n",
    "plt.imshow(wordcloud)\n",
    "plt.axis(\"off\")\n",
    "plt.show()"
   ]
  },
  {
   "cell_type": "code",
   "execution_count": 14,
   "metadata": {},
   "outputs": [],
   "source": [
    "#Building a Classifier\n",
    "\n",
    "X_train = df.loc[:24999, 'review'].values\n",
    "y_train = df.loc[:24999, 'sentiment'].values\n",
    "X_test = df.loc[25000:, 'review'].values\n",
    "y_test = df.loc[25000:, 'sentiment'].values"
   ]
  },
  {
   "cell_type": "code",
   "execution_count": 15,
   "metadata": {},
   "outputs": [
    {
     "name": "stdout",
     "output_type": "stream",
     "text": [
      "(25000, 73822) (25000, 73822)\n"
     ]
    }
   ],
   "source": [
    "vectorizer = TfidfVectorizer()\n",
    "train_vectors = vectorizer.fit_transform(X_train)\n",
    "test_vectors = vectorizer.transform(X_test)\n",
    "print(train_vectors.shape, test_vectors.shape)"
   ]
  },
  {
   "cell_type": "code",
   "execution_count": 16,
   "metadata": {},
   "outputs": [],
   "source": [
    "clf = MultinomialNB().fit(train_vectors, y_train)"
   ]
  },
  {
   "cell_type": "code",
   "execution_count": 17,
   "metadata": {},
   "outputs": [
    {
     "name": "stdout",
     "output_type": "stream",
     "text": [
      "0.83664\n"
     ]
    }
   ],
   "source": [
    "predicted = clf.predict(test_vectors)\n",
    "print(accuracy_score(y_test,predicted))"
   ]
  },
  {
   "cell_type": "code",
   "execution_count": null,
   "metadata": {},
   "outputs": [],
   "source": []
  }
 ],
 "metadata": {
  "celltoolbar": "Format de la Cellule Texte Brut",
  "kernelspec": {
   "display_name": "Python 3",
   "language": "python",
   "name": "python3"
  },
  "language_info": {
   "codemirror_mode": {
    "name": "ipython",
    "version": 3
   },
   "file_extension": ".py",
   "mimetype": "text/x-python",
   "name": "python",
   "nbconvert_exporter": "python",
   "pygments_lexer": "ipython3",
   "version": "3.7.6"
  }
 },
 "nbformat": 4,
 "nbformat_minor": 4
}
